{
 "cells": [
  {
   "cell_type": "code",
   "execution_count": 2,
   "metadata": {},
   "outputs": [],
   "source": [
    "import sys\n",
    "sys.path.append(\"/scratch/group/csce435-f23/python-3.8.17/lib/python3.8/site-packages\")\n",
    "sys.path.append(\"/scratch/group/csce435-f23/thicket\")\n",
    "from glob import glob\n",
    "\n",
    "import matplotlib.pyplot as plt\n",
    "import pandas as pd\n",
    "\n",
    "import thicket as th\n",
    "\n",
    "pd.set_option(\"display.max_rows\", None)\n",
    "pd.set_option(\"display.max_columns\", None)"
   ]
  },
  {
   "cell_type": "markdown",
   "metadata": {},
   "source": [
    "Read in all the files"
   ]
  },
  {
   "cell_type": "code",
   "execution_count": 30,
   "metadata": {},
   "outputs": [],
   "source": [
    "mergeTKMPIRandom = th.Thicket.from_caliperreader(glob('dataFiles/MPI/Merge/random/*.cali'))\n",
    "radixTKMPIRandom = th.Thicket.from_caliperreader(glob('dataFiles/MPI/Radix/random/*.cali'))\n",
    "quickTKMPIRandom = th.Thicket.from_caliperreader(glob('dataFiles/MPI/Quicksort/random/*.cali'))\n",
    "\n",
    "mergeTKCUDARandom = th.Thicket.from_caliperreader(glob('dataFiles/CUDA/Merge/random/*.cali'))\n",
    "radixTKCUDARandom = th.Thicket.from_caliperreader(glob('dataFiles/CUDA/Radix/random/*.cali'))"
   ]
  },
  {
   "cell_type": "markdown",
   "metadata": {},
   "source": [
    "Clean up the merge data"
   ]
  },
  {
   "cell_type": "code",
   "execution_count": 39,
   "metadata": {},
   "outputs": [
    {
     "name": "stdout",
     "output_type": "stream",
     "text": [
      "7  thickets created...\n",
      "{65536: <thicket.thicket.Thicket object at 0x2ba75ba2b370>, 262144: <thicket.thicket.Thicket object at 0x2ba7349d9310>, 1048576: <thicket.thicket.Thicket object at 0x2ba75bbd5640>, 4194304: <thicket.thicket.Thicket object at 0x2ba7592ce970>, 16777216: <thicket.thicket.Thicket object at 0x2ba75b901100>, 67108864: <thicket.thicket.Thicket object at 0x2ba7592dffd0>, 268435456: <thicket.thicket.Thicket object at 0x2ba75ba66490>}\n",
      "7  thickets created...\n",
      "{65536: <thicket.thicket.Thicket object at 0x2ba7592b5100>, 262144: <thicket.thicket.Thicket object at 0x2ba75ba14fd0>, 1048576: <thicket.thicket.Thicket object at 0x2ba75b911be0>, 4194304: <thicket.thicket.Thicket object at 0x2ba759044f40>, 16777216: <thicket.thicket.Thicket object at 0x2ba75b8ebd90>, 67108864: <thicket.thicket.Thicket object at 0x2ba75b902520>, 268435456: <thicket.thicket.Thicket object at 0x2ba7590a9640>}\n",
      "7  thickets created...\n",
      "{65536: <thicket.thicket.Thicket object at 0x2ba7590170a0>, 262144: <thicket.thicket.Thicket object at 0x2ba7592047c0>, 1048576: <thicket.thicket.Thicket object at 0x2ba75b8ed670>, 4194304: <thicket.thicket.Thicket object at 0x2ba75bb68940>, 16777216: <thicket.thicket.Thicket object at 0x2ba759225280>, 67108864: <thicket.thicket.Thicket object at 0x2ba75ba0f400>, 268435456: <thicket.thicket.Thicket object at 0x2ba75bc96100>}\n",
      "7  thickets created...\n",
      "{65536: <thicket.thicket.Thicket object at 0x2ba7592b57c0>, 262144: <thicket.thicket.Thicket object at 0x2ba75b847340>, 1048576: <thicket.thicket.Thicket object at 0x2ba75b8b2160>, 4194304: <thicket.thicket.Thicket object at 0x2ba75ba47a60>, 16777216: <thicket.thicket.Thicket object at 0x2ba7592e4fa0>, 67108864: <thicket.thicket.Thicket object at 0x2ba75b9d44c0>, 268435456: <thicket.thicket.Thicket object at 0x2ba75ba007f0>}\n",
      "7  thickets created...\n",
      "{65536: <thicket.thicket.Thicket object at 0x2ba759518280>, 262144: <thicket.thicket.Thicket object at 0x2ba75ba7a460>, 1048576: <thicket.thicket.Thicket object at 0x2ba75bd33100>, 4194304: <thicket.thicket.Thicket object at 0x2ba75bb6d2b0>, 16777216: <thicket.thicket.Thicket object at 0x2ba75be7db50>, 67108864: <thicket.thicket.Thicket object at 0x2ba75bd7f850>, 268435456: <thicket.thicket.Thicket object at 0x2ba759017730>}\n"
     ]
    }
   ],
   "source": [
    "MPIData = [mergeTKMPIRandom, radixTKMPIRandom, quickTKMPIRandom]\n",
    "MPIDataClean = []\n",
    "\n",
    "for i in range(len(MPIData)):\n",
    "    GB = MPIData[i].groupby(\"InputSize\")\n",
    "\n",
    "    Ctk = th.Thicket.concat_thickets(\n",
    "        thickets=list(GB.values()),\n",
    "        headers=list(GB.keys()),\n",
    "        axis=\"columns\",\n",
    "        metadata_key=\"num_procs\"\n",
    "    )\n",
    "\n",
    "    remove_list = [(\"node\", \"\")]\n",
    "    values = [2**16, 2**18, 2**20, 2**22, 2**24, 2**26, 2**28]\n",
    "    for val in values:\n",
    "        remove_list.append((val, \"nid\"))\n",
    "        remove_list.append((val, \"spot.channel\"))\n",
    "        remove_list.append((val, \"Total time\"))\n",
    "\n",
    "    Ctk.dataframe = Ctk.dataframe.reset_index().drop(remove_list, axis=1)\n",
    "    MPIDataClean.append(Ctk)\n",
    "\n",
    "CUDAData = [mergeTKCUDARandom, radixTKCUDARandom]\n",
    "CUDADataClean = []\n",
    "\n",
    "for i in range(len(CUDAData)):\n",
    "    GB = CUDAData[i].groupby(\"InputSize\")\n",
    "\n",
    "    Ctk = th.Thicket.concat_thickets(\n",
    "        thickets=list(GB.values()),\n",
    "        headers=list(GB.keys()),\n",
    "        axis=\"columns\",\n",
    "        metadata_key=\"num_procs\"\n",
    "    )\n",
    "\n",
    "    remove_list = [(\"node\", \"\")]\n",
    "    values = [2**16, 2**18, 2**20, 2**22, 2**24, 2**26, 2**28]\n",
    "    for val in values:\n",
    "        remove_list.append((val, \"nid\"))\n",
    "        remove_list.append((val, \"spot.channel\"))\n",
    "        remove_list.append((val, \"Total time\"))\n",
    "\n",
    "    Ctk.dataframe = Ctk.dataframe.reset_index().drop(remove_list, axis=1)\n",
    "    CUDADataClean.append(Ctk)"
   ]
  },
  {
   "cell_type": "markdown",
   "metadata": {},
   "source": [
    "Collect desired regions for plotting"
   ]
  },
  {
   "cell_type": "code",
   "execution_count": 41,
   "metadata": {},
   "outputs": [],
   "source": [
    "# Data for main\n",
    "mergeMPIRandomMain = MPIDataClean[0].dataframe.loc[MPIDataClean[0].dataframe['name'] == 'main']\n",
    "radixMPIRandomMain = MPIDataClean[1].dataframe.loc[MPIDataClean[1].dataframe['name'] == 'main']\n",
    "quickMPIRandomMain = MPIDataClean[2].dataframe.loc[MPIDataClean[2].dataframe['name'] == 'main']\n",
    "\n",
    "# Data for comm\n",
    "mergeMPIRandomComm = MPIDataClean[0].dataframe.loc[MPIDataClean[0].dataframe['name'] == 'comm']\n",
    "radixMPIRandomComm = MPIDataClean[1].dataframe.loc[MPIDataClean[1].dataframe['name'] == 'comm']\n",
    "quickMPIRandomComm = MPIDataClean[2].dataframe.loc[MPIDataClean[2].dataframe['name'] == 'comm']\n",
    "\n",
    "# Data for comp\n",
    "mergeMPIRandomComp = MPIDataClean[0].dataframe.loc[MPIDataClean[0].dataframe['name'] == 'comp_large']\n",
    "radixMPIRandomCommLarge = MPIDataClean[1].dataframe.loc[MPIDataClean[1].dataframe['name'] == 'comm_large']\n",
    "quickMPIRandomCommLarge = MPIDataClean[2].dataframe.loc[MPIDataClean[2].dataframe['name'] == 'comm_large']\n",
    "\n",
    "algosMain = {'MergeMPIRandom': mergeMPIRandomMain, 'RadixMPIRandom': radixMPIRandomMain, 'QuickMPIRandom': quickMPIRandomMain}\n",
    "\n",
    "algosComm = {'MergeMPIRandom': mergeMPIRandomComm, 'RadixMPIRandom': radixMPIRandomComm, 'QuickMPIRandom': quickMPIRandomComm}\n",
    "\n",
    "algosComp = {'MergeMPIRandom': mergeMPIRandomComp, 'RadixMPIRandom': radixMPIRandomCommLarge, 'QuickMPIRandom': quickMPIRandomCommLarge}\n",
    "\n",
    "# Data for main\n",
    "mergeCUDARandomMain = CUDADataClean[0].dataframe.loc[CUDADataClean[0].dataframe['name'] == 'main']\n",
    "radixCUDARandomMain = CUDADataClean[1].dataframe.loc[CUDADataClean[1].dataframe['name'] == 'main']\n",
    "\n",
    "# Data for comm\n",
    "mergeCUDARandomComm = CUDADataClean[0].dataframe.loc[CUDADataClean[0].dataframe['name'] == 'comm']\n",
    "radixCUDARandomComm = CUDADataClean[1].dataframe.loc[CUDADataClean[1].dataframe['name'] == 'comm']\n",
    "\n",
    "# Data for comp\n",
    "mergeCUDARandomComp = CUDADataClean[0].dataframe.loc[CUDADataClean[0].dataframe['name'] == 'comp_large']\n",
    "radixCUDARandomComp = CUDADataClean[1].dataframe.loc[CUDADataClean[1].dataframe['name'] == 'comp_large']\n",
    "\n",
    "algosMainCUDA = {'MergeCUDARandom': mergeCUDARandomMain, 'RadixCUDARandom': radixCUDARandomMain}\n",
    "\n",
    "algosCommCUDA = {'MergeCUDARandom': mergeCUDARandomComm, 'RadixCUDARandom': radixCUDARandomComm}\n",
    "\n",
    "algosCompCUDA = {'MergeCUDARandom': mergeCUDARandomComp, 'RadixCUDARandom': radixCUDARandomComp}\n"
   ]
  },
  {
   "cell_type": "markdown",
   "metadata": {},
   "source": [
    "Plot weak scaling"
   ]
  },
  {
   "cell_type": "code",
   "execution_count": 42,
   "metadata": {},
   "outputs": [],
   "source": [
    "def plot_weak_scaling(algos, values, time_type, title, xlabel, ylabel, savedir=None):\n",
    "    fig = plt.figure()\n",
    "    ax = fig.add_subplot(1, 1, 1)\n",
    "    ax.set_title(title)\n",
    "    ax.set_xlabel(xlabel)\n",
    "    ax.set_ylabel(ylabel)\n",
    "\n",
    "    for key in algos.keys():\n",
    "        algo = algos[key]\n",
    "        xvals = [2, 8, 32, 128]\n",
    "        sizePerXVal = [2**20, 2**22, 2**24, 2**26]\n",
    "        yvals = []\n",
    "        for idx, val in enumerate(sizePerXVal):\n",
    "            correctNumProcs = algo.loc[algo['num_procs'] == xvals[idx]]\n",
    "            times = correctNumProcs[val][time_type]\n",
    "            if len(times) == 0:\n",
    "                xvals.pop(idx)\n",
    "                continue\n",
    "            yvals.append(float(times.iloc[0]))\n",
    "\n",
    "        ax.plot(xvals, yvals, label = key)\n",
    "    \n",
    "    ax.legend()\n",
    "    plt.xscale(\"log\", base=2)\n",
    "    plt.show()\n",
    "    if savedir != None:\n",
    "        plt.save(savedir)\n",
    "\n",
    "def plot_weak_scaling_CUDA(algos, values, time_type, title, xlabel, ylabel, savedir=None):\n",
    "    fig = plt.figure()\n",
    "    ax = fig.add_subplot(1, 1, 1)\n",
    "    ax.set_title(title)\n",
    "    ax.set_xlabel(xlabel)\n",
    "    ax.set_ylabel(ylabel)\n",
    "\n",
    "    for key in algos.keys():\n",
    "        algo = algos[key]\n",
    "        xvals = [64, 512, 1024]\n",
    "        sizePerXVal = [2**24, 2**26, 2**28]\n",
    "        yvals = []\n",
    "        for idx, val in enumerate(sizePerXVal):\n",
    "            correctNumProcs = algo.loc[algo['num_procs'] == xvals[idx]]\n",
    "            times = correctNumProcs[val][time_type]\n",
    "            yvals.append(float(times.iloc[0]))\n",
    "\n",
    "        ax.plot(xvals, yvals, label = key)\n",
    "    \n",
    "    ax.legend()\n",
    "    plt.xscale(\"log\", base=2)\n",
    "    plt.show()\n",
    "    if savedir != None:\n",
    "        plt.save(savedir)"
   ]
  },
  {
   "cell_type": "markdown",
   "metadata": {},
   "source": [
    "MPI"
   ]
  },
  {
   "cell_type": "code",
   "execution_count": 46,
   "metadata": {},
   "outputs": [
    {
     "data": {
      "image/png": "[encoded data removed]",
      "text/plain": [
       "<Figure size 432x288 with 1 Axes>"
      ]
     },
     "metadata": {
      "needs_background": "light"
     },
     "output_type": "display_data"
    }
   ],
   "source": [
    "# for key in algosMain.keys():\n",
    "#     plot_weak_scaling(key, algosMain[key], values, 'Avg time/rank', 'Main\\nWeak Scaling ' + key, '# of processors', 'Time (s)')\n",
    "\n",
    "# for key in algosComm.keys():\n",
    "#     plot_weak_scaling(key, algosComm[key], values, 'Avg time/rank', 'Comm\\nWeak Scaling ' + key, '# of processors', 'Time (s)')\n",
    "\n",
    "values = [2**16, 2**18, 2**20, 2**22, 2**24, 2**26, 2**28]\n",
    "plot_weak_scaling(algosComp, values, 'Avg time/rank', 'Comp Large\\nWeak Scaling', '# of processors', 'Time (s)')"
   ]
  },
  {
   "cell_type": "markdown",
   "metadata": {},
   "source": [
    "CUDA"
   ]
  },
  {
   "cell_type": "code",
   "execution_count": 47,
   "metadata": {},
   "outputs": [
    {
     "data": {
      "image/png": "[encoded data removed]",
      "text/plain": [
       "<Figure size 432x288 with 1 Axes>"
      ]
     },
     "metadata": {
      "needs_background": "light"
     },
     "output_type": "display_data"
    }
   ],
   "source": [
    "plot_weak_scaling_CUDA(algosCompCUDA, values, 'Avg time/rank', 'Comp Large\\nWeak Scaling', '# of threads', 'Time (s)')"
   ]
  },
  {
   "cell_type": "code",
   "execution_count": null,
   "metadata": {},
   "outputs": [],
   "source": []
  }
 ],
 "metadata": {
  "kernelspec": {
   "display_name": "Python 3",
   "language": "python",
   "name": "python3"
  },
  "language_info": {
   "codemirror_mode": {
    "name": "ipython",
    "version": 3
   },
   "file_extension": ".py",
   "mimetype": "text/x-python",
   "name": "python",
   "nbconvert_exporter": "python",
   "pygments_lexer": "ipython3",
   "version": "3.8.6"
  }
 },
 "nbformat": 4,
 "nbformat_minor": 4
}
