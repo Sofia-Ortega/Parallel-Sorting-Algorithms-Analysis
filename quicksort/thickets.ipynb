{
 "cells": [
  {
   "cell_type": "code",
   "execution_count": 2,
   "metadata": {},
   "outputs": [
    {
     "name": "stdout",
     "output_type": "stream",
     "text": [
      "Collecting llnl-thicket\n",
      "  Downloading llnl_thicket-2023.3.1-py3-none-any.whl (261 kB)\n",
      "\u001b[2K     \u001b[90m━━━━━━━━━━━━━━━━━━━━━━━━━━━━━━━━━━━━━━━\u001b[0m \u001b[32m261.7/261.7 kB\u001b[0m \u001b[31m3.9 MB/s\u001b[0m eta \u001b[36m0:00:00\u001b[0ma \u001b[36m0:00:01\u001b[0m\n",
      "\u001b[?25hRequirement already satisfied: scipy in /Users/sriabhivenkat/anaconda3/lib/python3.11/site-packages (from llnl-thicket) (1.10.1)\n",
      "Requirement already satisfied: numpy in /Users/sriabhivenkat/anaconda3/lib/python3.11/site-packages (from llnl-thicket) (1.24.3)\n",
      "Requirement already satisfied: pandas>=1.1 in /Users/sriabhivenkat/anaconda3/lib/python3.11/site-packages (from llnl-thicket) (1.5.3)\n",
      "Collecting llnl-hatchet (from llnl-thicket)\n",
      "  Downloading llnl-hatchet-2023.1.1.tar.gz (367 kB)\n",
      "\u001b[2K     \u001b[90m━━━━━━━━━━━━━━━━━━━━━━━━━━━━━━━━━━━━━━\u001b[0m \u001b[32m368.0/368.0 kB\u001b[0m \u001b[31m18.3 MB/s\u001b[0m eta \u001b[36m0:00:00\u001b[0m\n",
      "\u001b[?25h  Installing build dependencies ... \u001b[?25ldone\n",
      "\u001b[?25h  Getting requirements to build wheel ... \u001b[?25ldone\n",
      "\u001b[?25h  Preparing metadata (pyproject.toml) ... \u001b[?25ldone\n",
      "\u001b[?25hRequirement already satisfied: python-dateutil>=2.8.1 in /Users/sriabhivenkat/anaconda3/lib/python3.11/site-packages (from pandas>=1.1->llnl-thicket) (2.8.2)\n",
      "Requirement already satisfied: pytz>=2020.1 in /Users/sriabhivenkat/anaconda3/lib/python3.11/site-packages (from pandas>=1.1->llnl-thicket) (2022.7)\n",
      "Collecting pydot (from llnl-hatchet->llnl-thicket)\n",
      "  Downloading pydot-1.4.2-py2.py3-none-any.whl (21 kB)\n",
      "Requirement already satisfied: PyYAML in /Users/sriabhivenkat/anaconda3/lib/python3.11/site-packages (from llnl-hatchet->llnl-thicket) (6.0)\n",
      "Requirement already satisfied: matplotlib in /Users/sriabhivenkat/anaconda3/lib/python3.11/site-packages (from llnl-hatchet->llnl-thicket) (3.7.1)\n",
      "Requirement already satisfied: multiprocess in /Users/sriabhivenkat/anaconda3/lib/python3.11/site-packages (from llnl-hatchet->llnl-thicket) (0.70.14)\n",
      "Collecting caliper-reader (from llnl-hatchet->llnl-thicket)\n",
      "  Downloading caliper_reader-0.4.0-py3-none-any.whl (10 kB)\n",
      "Collecting textX>=3.0.0 (from llnl-hatchet->llnl-thicket)\n",
      "  Downloading textx-4.0.1-py3-none-any.whl (66 kB)\n",
      "\u001b[2K     \u001b[90m━━━━━━━━━━━━━━━━━━━━━━━━━━━━━━━━━━━━━━━━\u001b[0m \u001b[32m66.8/66.8 kB\u001b[0m \u001b[31m10.5 MB/s\u001b[0m eta \u001b[36m0:00:00\u001b[0m\n",
      "\u001b[?25hRequirement already satisfied: six>=1.5 in /Users/sriabhivenkat/anaconda3/lib/python3.11/site-packages (from python-dateutil>=2.8.1->pandas>=1.1->llnl-thicket) (1.16.0)\n",
      "Collecting Arpeggio>=2.0.0 (from textX>=3.0.0->llnl-hatchet->llnl-thicket)\n",
      "  Downloading Arpeggio-2.0.2-py2.py3-none-any.whl (55 kB)\n",
      "\u001b[2K     \u001b[90m━━━━━━━━━━━━━━━━━━━━━━━━━━━━━━━━━━━━━━━━\u001b[0m \u001b[32m55.3/55.3 kB\u001b[0m \u001b[31m9.7 MB/s\u001b[0m eta \u001b[36m0:00:00\u001b[0m\n",
      "\u001b[?25hRequirement already satisfied: contourpy>=1.0.1 in /Users/sriabhivenkat/anaconda3/lib/python3.11/site-packages (from matplotlib->llnl-hatchet->llnl-thicket) (1.0.5)\n",
      "Requirement already satisfied: cycler>=0.10 in /Users/sriabhivenkat/anaconda3/lib/python3.11/site-packages (from matplotlib->llnl-hatchet->llnl-thicket) (0.11.0)\n",
      "Requirement already satisfied: fonttools>=4.22.0 in /Users/sriabhivenkat/anaconda3/lib/python3.11/site-packages (from matplotlib->llnl-hatchet->llnl-thicket) (4.25.0)\n",
      "Requirement already satisfied: kiwisolver>=1.0.1 in /Users/sriabhivenkat/anaconda3/lib/python3.11/site-packages (from matplotlib->llnl-hatchet->llnl-thicket) (1.4.4)\n",
      "Requirement already satisfied: packaging>=20.0 in /Users/sriabhivenkat/anaconda3/lib/python3.11/site-packages (from matplotlib->llnl-hatchet->llnl-thicket) (23.0)\n",
      "Requirement already satisfied: pillow>=6.2.0 in /Users/sriabhivenkat/anaconda3/lib/python3.11/site-packages (from matplotlib->llnl-hatchet->llnl-thicket) (9.4.0)\n",
      "Requirement already satisfied: pyparsing>=2.3.1 in /Users/sriabhivenkat/anaconda3/lib/python3.11/site-packages (from matplotlib->llnl-hatchet->llnl-thicket) (3.0.9)\n",
      "Requirement already satisfied: dill>=0.3.6 in /Users/sriabhivenkat/anaconda3/lib/python3.11/site-packages (from multiprocess->llnl-hatchet->llnl-thicket) (0.3.6)\n",
      "Building wheels for collected packages: llnl-hatchet\n",
      "  Building wheel for llnl-hatchet (pyproject.toml) ... \u001b[?25ldone\n",
      "\u001b[?25h  Created wheel for llnl-hatchet: filename=llnl_hatchet-2023.1.1-cp311-cp311-macosx_11_0_arm64.whl size=535229 sha256=3e26aa47ce1c1ab362768fcd48ef65a0fa30b184be23f9bd538a57ed734153bb\n",
      "  Stored in directory: /Users/sriabhivenkat/Library/Caches/pip/wheels/65/db/0b/85531d3481902130f261b94e380a1f74574e22bf8befaf965c\n",
      "Successfully built llnl-hatchet\n",
      "Installing collected packages: Arpeggio, textX, pydot, caliper-reader, llnl-hatchet, llnl-thicket\n",
      "Successfully installed Arpeggio-2.0.2 caliper-reader-0.4.0 llnl-hatchet-2023.1.1 llnl-thicket-2023.3.1 pydot-1.4.2 textX-4.0.1\n",
      "Note: you may need to restart the kernel to use updated packages.\n"
     ]
    }
   ],
   "source": [
    "%pip install llnl-thicket"
   ]
  },
  {
   "cell_type": "code",
   "execution_count": 9,
   "metadata": {},
   "outputs": [
    {
     "ename": "IndexError",
     "evalue": "list index out of range",
     "output_type": "error",
     "traceback": [
      "\u001b[0;31m---------------------------------------------------------------------------\u001b[0m",
      "\u001b[0;31mIndexError\u001b[0m                                Traceback (most recent call last)",
      "\u001b[1;32m/Users/sriabhivenkat/Desktop/CSCE435/ParallelComputingProject/quicksort/thickets.ipynb Cell 2\u001b[0m line \u001b[0;36m6\n\u001b[1;32m      <a href='vscode-notebook-cell:/Users/sriabhivenkat/Desktop/CSCE435/ParallelComputingProject/quicksort/thickets.ipynb#W1sZmlsZQ%3D%3D?line=1'>2</a>\u001b[0m \u001b[39mfrom\u001b[39;00m \u001b[39mglob\u001b[39;00m \u001b[39mimport\u001b[39;00m glob\n\u001b[1;32m      <a href='vscode-notebook-cell:/Users/sriabhivenkat/Desktop/CSCE435/ParallelComputingProject/quicksort/thickets.ipynb#W1sZmlsZQ%3D%3D?line=3'>4</a>\u001b[0m \u001b[39m# Load the CALI data\u001b[39;00m\n\u001b[1;32m      <a href='vscode-notebook-cell:/Users/sriabhivenkat/Desktop/CSCE435/ParallelComputingProject/quicksort/thickets.ipynb#W1sZmlsZQ%3D%3D?line=4'>5</a>\u001b[0m \u001b[39m# tk = th.Thicket.from_caliperreader(glob(\"quicksort/mpi/cali/plotted_calis/*.cali\"))\u001b[39;00m\n\u001b[0;32m----> <a href='vscode-notebook-cell:/Users/sriabhivenkat/Desktop/CSCE435/ParallelComputingProject/quicksort/thickets.ipynb#W1sZmlsZQ%3D%3D?line=5'>6</a>\u001b[0m tk \u001b[39m=\u001b[39m th\u001b[39m.\u001b[39mThicket\u001b[39m.\u001b[39mfrom_caliperreader(glob(\u001b[39m\"\u001b[39m\u001b[39mdataFiles/MPI/Merge/*.cali\u001b[39m\u001b[39m\"\u001b[39m))\n",
      "File \u001b[0;32m~/anaconda3/lib/python3.11/site-packages/thicket/thicket.py:212\u001b[0m, in \u001b[0;36mThicket.from_caliperreader\u001b[0;34m(filename_or_caliperreader, intersection)\u001b[0m\n\u001b[1;32m    203\u001b[0m \u001b[39m@staticmethod\u001b[39m\n\u001b[1;32m    204\u001b[0m \u001b[39mdef\u001b[39;00m \u001b[39mfrom_caliperreader\u001b[39m(filename_or_caliperreader, intersection\u001b[39m=\u001b[39m\u001b[39mFalse\u001b[39;00m):\n\u001b[1;32m    205\u001b[0m \u001b[39m    \u001b[39m\u001b[39m\"\"\"Helper function to read one caliper file.\u001b[39;00m\n\u001b[1;32m    206\u001b[0m \n\u001b[1;32m    207\u001b[0m \u001b[39m    Arguments:\u001b[39;00m\n\u001b[0;32m   (...)\u001b[0m\n\u001b[1;32m    210\u001b[0m \u001b[39m        intersection (bool): whether to perform intersection or union (default)\u001b[39;00m\n\u001b[1;32m    211\u001b[0m \u001b[39m    \"\"\"\u001b[39;00m\n\u001b[0;32m--> 212\u001b[0m     \u001b[39mreturn\u001b[39;00m Thicket\u001b[39m.\u001b[39mreader_dispatch(\n\u001b[1;32m    213\u001b[0m         GraphFrame\u001b[39m.\u001b[39mfrom_caliperreader, intersection, filename_or_caliperreader\n\u001b[1;32m    214\u001b[0m     )\n",
      "File \u001b[0;32m~/anaconda3/lib/python3.11/site-packages/thicket/thicket.py:265\u001b[0m, in \u001b[0;36mThicket.reader_dispatch\u001b[0;34m(func, intersection, *args, **kwargs)\u001b[0m\n\u001b[1;32m    263\u001b[0m \u001b[39mif\u001b[39;00m intersection:\n\u001b[1;32m    264\u001b[0m     calltree \u001b[39m=\u001b[39m \u001b[39m\"\u001b[39m\u001b[39mintersection\u001b[39m\u001b[39m\"\u001b[39m\n\u001b[0;32m--> 265\u001b[0m thicket_object \u001b[39m=\u001b[39m Thicket\u001b[39m.\u001b[39mconcat_thickets(\n\u001b[1;32m    266\u001b[0m     thickets\u001b[39m=\u001b[39mens_list,\n\u001b[1;32m    267\u001b[0m     axis\u001b[39m=\u001b[39m\u001b[39m\"\u001b[39m\u001b[39mindex\u001b[39m\u001b[39m\"\u001b[39m,\n\u001b[1;32m    268\u001b[0m     calltree\u001b[39m=\u001b[39mcalltree,\n\u001b[1;32m    269\u001b[0m )\n\u001b[1;32m    271\u001b[0m \u001b[39mreturn\u001b[39;00m thicket_object\n",
      "File \u001b[0;32m~/anaconda3/lib/python3.11/site-packages/thicket/thicket.py:322\u001b[0m, in \u001b[0;36mThicket.concat_thickets\u001b[0;34m(thickets, axis, calltree, **kwargs)\u001b[0m\n\u001b[1;32m    319\u001b[0m     \u001b[39mraise\u001b[39;00m \u001b[39mValueError\u001b[39;00m(\u001b[39m\"\u001b[39m\u001b[39mcalltree must be \u001b[39m\u001b[39m'\u001b[39m\u001b[39munion\u001b[39m\u001b[39m'\u001b[39m\u001b[39m or \u001b[39m\u001b[39m'\u001b[39m\u001b[39mintersection\u001b[39m\u001b[39m'\u001b[39m\u001b[39m\"\u001b[39m)\n\u001b[1;32m    321\u001b[0m \u001b[39mif\u001b[39;00m axis \u001b[39m==\u001b[39m \u001b[39m\"\u001b[39m\u001b[39mindex\u001b[39m\u001b[39m\"\u001b[39m:\n\u001b[0;32m--> 322\u001b[0m     ct \u001b[39m=\u001b[39m _index(thickets, \u001b[39m*\u001b[39m\u001b[39m*\u001b[39mkwargs)\n\u001b[1;32m    323\u001b[0m \u001b[39melif\u001b[39;00m axis \u001b[39m==\u001b[39m \u001b[39m\"\u001b[39m\u001b[39mcolumns\u001b[39m\u001b[39m\"\u001b[39m:\n\u001b[1;32m    324\u001b[0m     ct \u001b[39m=\u001b[39m _columns(thickets, \u001b[39m*\u001b[39m\u001b[39m*\u001b[39mkwargs)\n",
      "File \u001b[0;32m~/anaconda3/lib/python3.11/site-packages/thicket/thicket.py:297\u001b[0m, in \u001b[0;36mThicket.concat_thickets.<locals>._index\u001b[0;34m(thickets, from_statsframes)\u001b[0m\n\u001b[1;32m    296\u001b[0m \u001b[39mdef\u001b[39;00m \u001b[39m_index\u001b[39m(thickets, from_statsframes\u001b[39m=\u001b[39m\u001b[39mFalse\u001b[39;00m):\n\u001b[0;32m--> 297\u001b[0m     thicket_parts \u001b[39m=\u001b[39m Ensemble\u001b[39m.\u001b[39m_index(\n\u001b[1;32m    298\u001b[0m         thickets\u001b[39m=\u001b[39mthickets, from_statsframes\u001b[39m=\u001b[39mfrom_statsframes\n\u001b[1;32m    299\u001b[0m     )\n\u001b[1;32m    301\u001b[0m     \u001b[39mreturn\u001b[39;00m Thicket(\n\u001b[1;32m    302\u001b[0m         graph\u001b[39m=\u001b[39mthicket_parts[\u001b[39m0\u001b[39m],\n\u001b[1;32m    303\u001b[0m         dataframe\u001b[39m=\u001b[39mthicket_parts[\u001b[39m1\u001b[39m],\n\u001b[0;32m   (...)\u001b[0m\n\u001b[1;32m    308\u001b[0m         profile_mapping\u001b[39m=\u001b[39mthicket_parts[\u001b[39m6\u001b[39m],\n\u001b[1;32m    309\u001b[0m     )\n",
      "File \u001b[0;32m~/anaconda3/lib/python3.11/site-packages/thicket/ensemble.py:336\u001b[0m, in \u001b[0;36mEnsemble._index\u001b[0;34m(thickets, from_statsframes)\u001b[0m\n\u001b[1;32m    333\u001b[0m unify_profile_mapping \u001b[39m=\u001b[39m OrderedDict()\n\u001b[1;32m    335\u001b[0m \u001b[39m# Unification\u001b[39;00m\n\u001b[0;32m--> 336\u001b[0m unify_graph, thickets \u001b[39m=\u001b[39m Ensemble\u001b[39m.\u001b[39m_unify(thickets)\n\u001b[1;32m    337\u001b[0m \u001b[39mfor\u001b[39;00m th \u001b[39min\u001b[39;00m thickets:\n\u001b[1;32m    338\u001b[0m     \u001b[39m# Extend metrics\u001b[39;00m\n\u001b[1;32m    339\u001b[0m     unify_inc_metrics\u001b[39m.\u001b[39mextend(th\u001b[39m.\u001b[39minc_metrics)\n",
      "File \u001b[0;32m~/anaconda3/lib/python3.11/site-packages/thicket/ensemble.py:36\u001b[0m, in \u001b[0;36mEnsemble._unify\u001b[0;34m(thickets, inplace)\u001b[0m\n\u001b[1;32m     34\u001b[0m     _thickets \u001b[39m=\u001b[39m [th\u001b[39m.\u001b[39mdeepcopy() \u001b[39mfor\u001b[39;00m th \u001b[39min\u001b[39;00m thickets]\n\u001b[1;32m     35\u001b[0m \u001b[39m# Unify graphs if \"self\" and \"other\" do not have the same graph\u001b[39;00m\n\u001b[0;32m---> 36\u001b[0m union_graph \u001b[39m=\u001b[39m _thickets[\u001b[39m0\u001b[39m]\u001b[39m.\u001b[39mgraph\n\u001b[1;32m     37\u001b[0m \u001b[39mfor\u001b[39;00m i \u001b[39min\u001b[39;00m \u001b[39mrange\u001b[39m(\u001b[39mlen\u001b[39m(_thickets) \u001b[39m-\u001b[39m \u001b[39m1\u001b[39m):\n\u001b[1;32m     38\u001b[0m     \u001b[39m# Check for same graph id (fast) if not -> check for equality (slow)\u001b[39;00m\n\u001b[1;32m     39\u001b[0m     \u001b[39mif\u001b[39;00m (\n\u001b[1;32m     40\u001b[0m         _thickets[i]\u001b[39m.\u001b[39mgraph \u001b[39mis\u001b[39;00m _thickets[i \u001b[39m+\u001b[39m \u001b[39m1\u001b[39m]\u001b[39m.\u001b[39mgraph\n\u001b[1;32m     41\u001b[0m         \u001b[39mor\u001b[39;00m _thickets[i]\u001b[39m.\u001b[39mgraph \u001b[39m==\u001b[39m _thickets[i \u001b[39m+\u001b[39m \u001b[39m1\u001b[39m]\u001b[39m.\u001b[39mgraph\n\u001b[1;32m     42\u001b[0m     ):\n",
      "\u001b[0;31mIndexError\u001b[0m: list index out of range"
     ]
    }
   ],
   "source": [
    "import thicket as th\n",
    "from glob import glob\n",
    "\n",
    "# Load the CALI data\n",
    "tk = th.Thicket.from_caliperreader(glob(\"quicksort/mpi/cali/plotted_calis/*.cali\"))\n"
   ]
  }
 ],
 "metadata": {
  "kernelspec": {
   "display_name": "base",
   "language": "python",
   "name": "python3"
  },
  "language_info": {
   "codemirror_mode": {
    "name": "ipython",
    "version": 3
   },
   "file_extension": ".py",
   "mimetype": "text/x-python",
   "name": "python",
   "nbconvert_exporter": "python",
   "pygments_lexer": "ipython3",
   "version": "3.11.3"
  }
 },
 "nbformat": 4,
 "nbformat_minor": 2
}
